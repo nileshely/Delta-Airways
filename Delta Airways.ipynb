{
 "cells": [
  {
   "cell_type": "markdown",
   "id": "635e2a58-d698-4237-a184-107bc3cea81f",
   "metadata": {},
   "source": [
    "# Delta Airways EDA"
   ]
  },
  {
   "cell_type": "code",
   "execution_count": 2,
   "id": "ceb54ef7-392b-4c54-9080-6ed7b0004def",
   "metadata": {},
   "outputs": [
    {
     "name": "stdout",
     "output_type": "stream",
     "text": [
      "  published_platform  rating    type  helpful_votes  travel_date  \\\n",
      "0            Desktop       2  review              0          NaN   \n",
      "1            Desktop       1  review              0          NaN   \n",
      "2            Desktop       1  review              0          NaN   \n",
      "3            Desktop       1  review              0          NaN   \n",
      "4            Desktop       5  review              0          NaN   \n",
      "\n",
      "                                                text  \\\n",
      "0  - [ ] we took off from SLC and were told the p...   \n",
      "1  My wife and was boarding our flight which was ...   \n",
      "2  My family & I ended up spending 1 of my only 2...   \n",
      "3  On a recent Delta flight from Los Angeles to A...   \n",
      "4  We fly business class to Quito from Atlanta on...   \n",
      "\n",
      "                                               title  machine_translated  \\\n",
      "0                               Delta put us at risk               False   \n",
      "1                         First class bad experience               False   \n",
      "2  Vacation day spent in Detroit Airport due lack...               False   \n",
      "3                                       Poor service               False   \n",
      "4                                  Excellent Airline               False   \n",
      "\n",
      "   machine_translatable  \n",
      "0                 False  \n",
      "1                 False  \n",
      "2                 False  \n",
      "3                 False  \n",
      "4                 False  \n",
      "published_platform         0\n",
      "rating                     0\n",
      "type                       0\n",
      "helpful_votes              0\n",
      "travel_date             2820\n",
      "text                       0\n",
      "title                      1\n",
      "machine_translated         0\n",
      "machine_translatable       0\n",
      "dtype: int64\n",
      "            rating  helpful_votes  travel_date\n",
      "count  2820.000000    2820.000000          0.0\n",
      "mean      1.907092       0.848227          NaN\n",
      "std       1.473384       1.350448          NaN\n",
      "min       1.000000       0.000000          NaN\n",
      "25%       1.000000       0.000000          NaN\n",
      "50%       1.000000       1.000000          NaN\n",
      "75%       2.000000       1.000000          NaN\n",
      "max       5.000000      35.000000          NaN\n",
      "rating\n",
      "1    1879\n",
      "5     394\n",
      "2     254\n",
      "3     151\n",
      "4     142\n",
      "Name: count, dtype: int64\n"
     ]
    }
   ],
   "source": [
    "import pandas as pd\n",
    "\n",
    "# Load the dataset\n",
    "df = pd.read_csv(\"delta_airways_reviews.csv\")\n",
    "\n",
    "# Display the first few rows of the dataset\n",
    "print(df.head())\n",
    "\n",
    "# Check for missing values\n",
    "print(df.isnull().sum())\n",
    "\n",
    "# Summary statistics of numerical columns\n",
    "print(df.describe())\n",
    "\n",
    "# Check the distribution of ratings\n",
    "print(df['rating'].value_counts())"
   ]
  },
  {
   "cell_type": "code",
   "execution_count": 5,
   "id": "015d0433-547a-4029-8d64-83475c55f461",
   "metadata": {},
   "outputs": [
    {
     "name": "stdout",
     "output_type": "stream",
     "text": [
      "sentiment\n",
      "Positive    1555\n",
      "Negative    1190\n",
      "Neutral       75\n",
      "Name: count, dtype: int64\n"
     ]
    }
   ],
   "source": [
    "from textblob import TextBlob\n",
    "\n",
    "# Function to perform sentiment analysis using TextBlob\n",
    "def analyze_sentiment(text):\n",
    "    analysis = TextBlob(text)\n",
    "    if analysis.sentiment.polarity > 0:\n",
    "        return 'Positive'\n",
    "    elif analysis.sentiment.polarity == 0:\n",
    "        return 'Neutral'\n",
    "    else:\n",
    "        return 'Negative'\n",
    "\n",
    "# Apply sentiment analysis to each review\n",
    "df['sentiment'] = df['text'].apply(analyze_sentiment)\n",
    "\n",
    "# Display the distribution of sentiments\n",
    "print(df['sentiment'].value_counts())\n"
   ]
  },
  {
   "cell_type": "code",
   "execution_count": 22,
   "id": "5d28c12e-e8b0-424f-a0cb-1bf17f7c4fd2",
   "metadata": {},
   "outputs": [
    {
     "name": "stdout",
     "output_type": "stream",
     "text": [
      "Common Issues Mentioned in Reviews:\n",
      "flight: 5464 mentions\n",
      "delta: 5059 mentions\n",
      "us: 1597 mentions\n",
      "time: 1519 mentions\n",
      "get: 1488 mentions\n",
      "service: 1423 mentions\n",
      "would: 1366 mentions\n",
      "hours: 1159 mentions\n",
      "one: 1064 mentions\n",
      "plane: 1045 mentions\n"
     ]
    }
   ],
   "source": [
    "from collections import Counter\n",
    "from nltk.corpus import stopwords\n",
    "from nltk.tokenize import word_tokenize\n",
    "\n",
    "# Function to identify common issues\n",
    "def identify_common_issues(text_column, n=10):\n",
    "    stop_words = set(stopwords.words('english'))\n",
    "    all_words = []\n",
    "    for text in text_column:\n",
    "        words = word_tokenize(text)\n",
    "        words = [word.lower() for word in words if word.isalpha() and word.lower() not in stop_words]\n",
    "        all_words.extend(words)\n",
    "    common_words = Counter(all_words).most_common(n)\n",
    "    return common_words\n",
    "\n",
    "# Identify common issues mentioned in reviews\n",
    "common_issues = identify_common_issues(df['text'])\n",
    "print(\"Common Issues Mentioned in Reviews:\")\n",
    "for word, count in common_issues:\n",
    "    print(f\"{word}: {count} mentions\")\n"
   ]
  },
  {
   "cell_type": "code",
   "execution_count": 23,
   "id": "f4b72388-8da1-43c7-b554-3413affc7107",
   "metadata": {},
   "outputs": [
    {
     "name": "stdout",
     "output_type": "stream",
     "text": [
      "Potential Solutions:\n",
      "Issue: Delay\n",
      "Solution: Improve flight scheduling and management to minimize delays.\n",
      "\n",
      "Issue: Customer\n",
      "Solution: Enhance customer service training for staff to address customer concerns effectively.\n",
      "\n",
      "Issue: Baggage\n",
      "Solution: Implement better baggage handling procedures and improve communication with passengers regarding baggage.\n",
      "\n"
     ]
    }
   ],
   "source": [
    "# Provide potential solutions\n",
    "potential_solutions = {\n",
    "    \"delay\": \"Improve flight scheduling and management to minimize delays.\",\n",
    "    \"customer\": \"Enhance customer service training for staff to address customer concerns effectively.\",\n",
    "    \"baggage\": \"Implement better baggage handling procedures and improve communication with passengers regarding baggage.\",\n",
    "    # Add more solutions for other common issues as necessary\n",
    "}\n",
    "\n",
    "print(\"Potential Solutions:\")\n",
    "for issue, solution in potential_solutions.items():\n",
    "    print(f\"Issue: {issue.capitalize()}\")\n",
    "    print(f\"Solution: {solution}\")\n",
    "    print()\n"
   ]
  }
 ],
 "metadata": {
  "kernelspec": {
   "display_name": "Python 3 (ipykernel)",
   "language": "python",
   "name": "python3"
  },
  "language_info": {
   "codemirror_mode": {
    "name": "ipython",
    "version": 3
   },
   "file_extension": ".py",
   "mimetype": "text/x-python",
   "name": "python",
   "nbconvert_exporter": "python",
   "pygments_lexer": "ipython3",
   "version": "3.12.2"
  }
 },
 "nbformat": 4,
 "nbformat_minor": 5
}
